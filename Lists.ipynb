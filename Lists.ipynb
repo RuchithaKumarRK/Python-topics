{
 "cells": [
  {
   "cell_type": "code",
   "execution_count": null,
   "metadata": {},
   "outputs": [],
   "source": [
    "# Lists:\n",
    "    \n",
    "#A list is a collection of data. It can hold values of multiple datatypes."
   ]
  },
  {
   "cell_type": "code",
   "execution_count": null,
   "metadata": {},
   "outputs": [],
   "source": [
    "#Creating lists:"
   ]
  },
  {
   "cell_type": "code",
   "execution_count": 45,
   "metadata": {},
   "outputs": [
    {
     "name": "stdout",
     "output_type": "stream",
     "text": [
      "[1, 2, 3]\n"
     ]
    }
   ],
   "source": [
    "n = [1, 2, 3]\n",
    "print(n)"
   ]
  },
  {
   "cell_type": "code",
   "execution_count": 46,
   "metadata": {},
   "outputs": [
    {
     "name": "stdout",
     "output_type": "stream",
     "text": [
      "['a', 'b']\n"
     ]
    }
   ],
   "source": [
    "l = ['a','b']\n",
    "print(l)"
   ]
  },
  {
   "cell_type": "code",
   "execution_count": 47,
   "metadata": {},
   "outputs": [
    {
     "name": "stdout",
     "output_type": "stream",
     "text": [
      "['num', 'letter', 'strings']\n"
     ]
    }
   ],
   "source": [
    "s = [\"num\", \"letter\", \"strings\"]\n",
    "print(s)"
   ]
  },
  {
   "cell_type": "code",
   "execution_count": 48,
   "metadata": {},
   "outputs": [
    {
     "name": "stdout",
     "output_type": "stream",
     "text": [
      "[1, 2, 'mixture', 'of', 'all']\n"
     ]
    }
   ],
   "source": [
    "m = [1, 2, \"mixture\", \"of\", \"all\"]\n",
    "print(m)"
   ]
  },
  {
   "cell_type": "code",
   "execution_count": 49,
   "metadata": {},
   "outputs": [
    {
     "name": "stdout",
     "output_type": "stream",
     "text": [
      "[[1, 2], ['a', 'b']]\n"
     ]
    }
   ],
   "source": [
    "#matrix\n",
    "matrix = [[1,2],['a','b']]\n",
    "print (matrix)"
   ]
  },
  {
   "cell_type": "code",
   "execution_count": null,
   "metadata": {},
   "outputs": [],
   "source": [
    "#Accessing elements in lists"
   ]
  },
  {
   "cell_type": "code",
   "execution_count": 50,
   "metadata": {},
   "outputs": [
    {
     "name": "stdout",
     "output_type": "stream",
     "text": [
      "[1, 2, 'mixture', 'of', 'all']\n"
     ]
    }
   ],
   "source": [
    "print(m)"
   ]
  },
  {
   "cell_type": "code",
   "execution_count": 51,
   "metadata": {},
   "outputs": [
    {
     "name": "stdout",
     "output_type": "stream",
     "text": [
      "all\n",
      "of\n",
      "[1, 2, 'mixture']\n",
      "['of', 'all']\n",
      "['mixture', 'of']\n",
      "[1, 'mixture', 'all']\n",
      "['all', 'of', 'mixture', 2, 1]\n",
      "[2]\n",
      "['mixture']\n"
     ]
    }
   ],
   "source": [
    "print(m[4])\n",
    "print(m[-2])\n",
    "print(m[:3])\n",
    "print(m[3:])\n",
    "print(m[2:4])\n",
    "print(m[::2])\n",
    "print(m[::-1])\n",
    "print(m[1:3:3])\n",
    "print(m[2:3:3])"
   ]
  },
  {
   "cell_type": "code",
   "execution_count": null,
   "metadata": {},
   "outputs": [],
   "source": [
    "#Operations on lists"
   ]
  },
  {
   "cell_type": "code",
   "execution_count": 52,
   "metadata": {},
   "outputs": [
    {
     "name": "stdout",
     "output_type": "stream",
     "text": [
      "[0, 0, 0, 0, 0, 0, 0, 0, 0, 0]\n"
     ]
    }
   ],
   "source": [
    "b = [0]*10\n",
    "print(b)"
   ]
  },
  {
   "cell_type": "code",
   "execution_count": null,
   "metadata": {},
   "outputs": [],
   "source": [
    "#concatinating lists:"
   ]
  },
  {
   "cell_type": "code",
   "execution_count": 53,
   "metadata": {},
   "outputs": [
    {
     "name": "stdout",
     "output_type": "stream",
     "text": [
      "['a', 'b']\n",
      "['num', 'letter', 'strings']\n"
     ]
    }
   ],
   "source": [
    "print(l)\n",
    "print(s)"
   ]
  },
  {
   "cell_type": "code",
   "execution_count": 54,
   "metadata": {},
   "outputs": [
    {
     "name": "stdout",
     "output_type": "stream",
     "text": [
      "['a', 'b', 'num', 'letter', 'strings']\n"
     ]
    }
   ],
   "source": [
    "conc = l + s\n",
    "print(conc)"
   ]
  },
  {
   "cell_type": "code",
   "execution_count": null,
   "metadata": {},
   "outputs": [],
   "source": [
    "#unpacking lists:"
   ]
  },
  {
   "cell_type": "code",
   "execution_count": 55,
   "metadata": {},
   "outputs": [
    {
     "name": "stdout",
     "output_type": "stream",
     "text": [
      "['y', 'o', 'u', ' ', 'c', 'a', 'n', ' ', 'd', 'o', ' ', 'i', 't']\n"
     ]
    }
   ],
   "source": [
    "v = list(\"you can do it\")\n",
    "print(v)"
   ]
  },
  {
   "cell_type": "code",
   "execution_count": 56,
   "metadata": {},
   "outputs": [
    {
     "name": "stdout",
     "output_type": "stream",
     "text": [
      "[1, 2, 3]\n"
     ]
    }
   ],
   "source": [
    "print(n)"
   ]
  },
  {
   "cell_type": "code",
   "execution_count": 57,
   "metadata": {},
   "outputs": [
    {
     "name": "stdout",
     "output_type": "stream",
     "text": [
      "1\n",
      "[2, 3]\n"
     ]
    }
   ],
   "source": [
    "one, *other = n\n",
    "print(one)\n",
    "print(other)"
   ]
  },
  {
   "cell_type": "code",
   "execution_count": null,
   "metadata": {},
   "outputs": [],
   "source": [
    "#methods in lists:"
   ]
  },
  {
   "cell_type": "code",
   "execution_count": 58,
   "metadata": {},
   "outputs": [
    {
     "name": "stdout",
     "output_type": "stream",
     "text": [
      "[1, 2, 3]\n",
      "[1, 2, 3, 8]\n"
     ]
    }
   ],
   "source": [
    "#append method\n",
    "print(n)\n",
    "n.append(8)\n",
    "print(n)"
   ]
  },
  {
   "cell_type": "code",
   "execution_count": 59,
   "metadata": {},
   "outputs": [
    {
     "name": "stdout",
     "output_type": "stream",
     "text": [
      "['num', 'letter', 'strings']\n",
      "[1, 2, 3, 8, 'num', 'letter', 'strings']\n"
     ]
    }
   ],
   "source": [
    "#extend method\n",
    "print(s)\n",
    "n.extend(s)\n",
    "print(n)"
   ]
  },
  {
   "cell_type": "code",
   "execution_count": 60,
   "metadata": {},
   "outputs": [
    {
     "name": "stdout",
     "output_type": "stream",
     "text": [
      "[1, 2, 3, 8, 'num', 'come on', 'letter', 'strings']\n"
     ]
    }
   ],
   "source": [
    "#insert method\n",
    "n.insert(5,\"come on\") #position, element\n",
    "print(n)"
   ]
  },
  {
   "cell_type": "code",
   "execution_count": 61,
   "metadata": {},
   "outputs": [
    {
     "name": "stdout",
     "output_type": "stream",
     "text": [
      "[1, 2, 3, 8, 'num', 'letter', 'strings']\n"
     ]
    }
   ],
   "source": [
    "#remove method\n",
    "n.remove(\"come on\") #removes only the first occurance of that word\n",
    "print(n)"
   ]
  },
  {
   "cell_type": "code",
   "execution_count": 62,
   "metadata": {},
   "outputs": [
    {
     "name": "stdout",
     "output_type": "stream",
     "text": [
      "['a', 'l', 'q', 'r']\n"
     ]
    }
   ],
   "source": [
    "#sort method\n",
    "u = ['a', 'r', 'l', 'q']\n",
    "u.sort()\n",
    "print(u)"
   ]
  },
  {
   "cell_type": "code",
   "execution_count": null,
   "metadata": {},
   "outputs": [],
   "source": [
    "#Built-in functions with lists:"
   ]
  },
  {
   "cell_type": "code",
   "execution_count": 63,
   "metadata": {},
   "outputs": [
    {
     "name": "stdout",
     "output_type": "stream",
     "text": [
      "4\n",
      "2\n",
      "89\n",
      "146\n"
     ]
    }
   ],
   "source": [
    "#len, min, max, sum\n",
    "y = [2, 46, 89, 9]\n",
    "print(len(y))\n",
    "print(min(y))\n",
    "print(max(y))\n",
    "print(sum(y))"
   ]
  },
  {
   "cell_type": "code",
   "execution_count": 64,
   "metadata": {},
   "outputs": [
    {
     "data": {
      "text/plain": [
       "36.5"
      ]
     },
     "execution_count": 64,
     "metadata": {},
     "output_type": "execute_result"
    }
   ],
   "source": [
    "sum(y)/len(y)"
   ]
  },
  {
   "cell_type": "code",
   "execution_count": null,
   "metadata": {},
   "outputs": [],
   "source": []
  }
 ],
 "metadata": {
  "kernelspec": {
   "display_name": "Python 3",
   "language": "python",
   "name": "python3"
  },
  "language_info": {
   "codemirror_mode": {
    "name": "ipython",
    "version": 3
   },
   "file_extension": ".py",
   "mimetype": "text/x-python",
   "name": "python",
   "nbconvert_exporter": "python",
   "pygments_lexer": "ipython3",
   "version": "3.8.5"
  }
 },
 "nbformat": 4,
 "nbformat_minor": 4
}
